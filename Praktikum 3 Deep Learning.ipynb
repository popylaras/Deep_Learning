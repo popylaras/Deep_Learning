{
 "cells": [
  {
   "cell_type": "markdown",
   "id": "2d7023a5",
   "metadata": {},
   "source": [
    "# Persiapan Data"
   ]
  },
  {
   "cell_type": "code",
   "execution_count": 1,
   "id": "edd22792",
   "metadata": {},
   "outputs": [
    {
     "data": {
      "text/html": [
       "<div>\n",
       "<style scoped>\n",
       "    .dataframe tbody tr th:only-of-type {\n",
       "        vertical-align: middle;\n",
       "    }\n",
       "\n",
       "    .dataframe tbody tr th {\n",
       "        vertical-align: top;\n",
       "    }\n",
       "\n",
       "    .dataframe thead th {\n",
       "        text-align: right;\n",
       "    }\n",
       "</style>\n",
       "<table border=\"1\" class=\"dataframe\">\n",
       "  <thead>\n",
       "    <tr style=\"text-align: right;\">\n",
       "      <th></th>\n",
       "      <th>x1</th>\n",
       "      <th>x2</th>\n",
       "      <th>x3</th>\n",
       "      <th>x4</th>\n",
       "      <th>x5</th>\n",
       "      <th>x6</th>\n",
       "      <th>x7</th>\n",
       "      <th>x8</th>\n",
       "      <th>x9</th>\n",
       "      <th>x10</th>\n",
       "      <th>y</th>\n",
       "    </tr>\n",
       "  </thead>\n",
       "  <tbody>\n",
       "    <tr>\n",
       "      <th>0</th>\n",
       "      <td>1.518347</td>\n",
       "      <td>0.169320</td>\n",
       "      <td>-0.563664</td>\n",
       "      <td>2.950641</td>\n",
       "      <td>-1.132146</td>\n",
       "      <td>1.505471</td>\n",
       "      <td>-0.284394</td>\n",
       "      <td>0.023092</td>\n",
       "      <td>0.007470</td>\n",
       "      <td>-1.650441</td>\n",
       "      <td>1</td>\n",
       "    </tr>\n",
       "    <tr>\n",
       "      <th>1</th>\n",
       "      <td>2.098640</td>\n",
       "      <td>2.220619</td>\n",
       "      <td>-0.125866</td>\n",
       "      <td>-1.202919</td>\n",
       "      <td>-1.711568</td>\n",
       "      <td>-0.426238</td>\n",
       "      <td>-0.890906</td>\n",
       "      <td>0.522722</td>\n",
       "      <td>-0.963621</td>\n",
       "      <td>1.113457</td>\n",
       "      <td>1</td>\n",
       "    </tr>\n",
       "    <tr>\n",
       "      <th>2</th>\n",
       "      <td>-1.995845</td>\n",
       "      <td>-1.483104</td>\n",
       "      <td>0.184418</td>\n",
       "      <td>-0.663577</td>\n",
       "      <td>0.833680</td>\n",
       "      <td>-0.825841</td>\n",
       "      <td>0.292764</td>\n",
       "      <td>-0.354294</td>\n",
       "      <td>0.668589</td>\n",
       "      <td>0.474721</td>\n",
       "      <td>2</td>\n",
       "    </tr>\n",
       "    <tr>\n",
       "      <th>3</th>\n",
       "      <td>0.902420</td>\n",
       "      <td>-1.210013</td>\n",
       "      <td>0.938864</td>\n",
       "      <td>0.901350</td>\n",
       "      <td>-1.298249</td>\n",
       "      <td>0.408745</td>\n",
       "      <td>0.344624</td>\n",
       "      <td>-0.322170</td>\n",
       "      <td>0.705360</td>\n",
       "      <td>2.597745</td>\n",
       "      <td>1</td>\n",
       "    </tr>\n",
       "    <tr>\n",
       "      <th>4</th>\n",
       "      <td>1.233222</td>\n",
       "      <td>0.890784</td>\n",
       "      <td>-0.642521</td>\n",
       "      <td>-1.183033</td>\n",
       "      <td>0.760037</td>\n",
       "      <td>-0.554282</td>\n",
       "      <td>-1.136154</td>\n",
       "      <td>0.233899</td>\n",
       "      <td>-0.503455</td>\n",
       "      <td>0.123104</td>\n",
       "      <td>3</td>\n",
       "    </tr>\n",
       "    <tr>\n",
       "      <th>...</th>\n",
       "      <td>...</td>\n",
       "      <td>...</td>\n",
       "      <td>...</td>\n",
       "      <td>...</td>\n",
       "      <td>...</td>\n",
       "      <td>...</td>\n",
       "      <td>...</td>\n",
       "      <td>...</td>\n",
       "      <td>...</td>\n",
       "      <td>...</td>\n",
       "      <td>...</td>\n",
       "    </tr>\n",
       "    <tr>\n",
       "      <th>14995</th>\n",
       "      <td>-0.585161</td>\n",
       "      <td>-0.012898</td>\n",
       "      <td>0.841239</td>\n",
       "      <td>-0.050058</td>\n",
       "      <td>1.791464</td>\n",
       "      <td>-0.122988</td>\n",
       "      <td>-0.224938</td>\n",
       "      <td>0.026782</td>\n",
       "      <td>-0.138373</td>\n",
       "      <td>-2.426532</td>\n",
       "      <td>2</td>\n",
       "    </tr>\n",
       "    <tr>\n",
       "      <th>14996</th>\n",
       "      <td>1.755174</td>\n",
       "      <td>0.712462</td>\n",
       "      <td>0.583603</td>\n",
       "      <td>-0.477384</td>\n",
       "      <td>-1.014532</td>\n",
       "      <td>-0.424457</td>\n",
       "      <td>0.618902</td>\n",
       "      <td>0.159920</td>\n",
       "      <td>-0.271558</td>\n",
       "      <td>0.741435</td>\n",
       "      <td>1</td>\n",
       "    </tr>\n",
       "    <tr>\n",
       "      <th>14997</th>\n",
       "      <td>-0.111263</td>\n",
       "      <td>-2.167265</td>\n",
       "      <td>-0.814331</td>\n",
       "      <td>1.521100</td>\n",
       "      <td>1.871699</td>\n",
       "      <td>-0.034947</td>\n",
       "      <td>0.260475</td>\n",
       "      <td>-0.506794</td>\n",
       "      <td>0.924204</td>\n",
       "      <td>-1.455204</td>\n",
       "      <td>2</td>\n",
       "    </tr>\n",
       "    <tr>\n",
       "      <th>14998</th>\n",
       "      <td>-1.547969</td>\n",
       "      <td>-0.364428</td>\n",
       "      <td>-0.663746</td>\n",
       "      <td>-0.452525</td>\n",
       "      <td>0.467082</td>\n",
       "      <td>1.012672</td>\n",
       "      <td>0.254040</td>\n",
       "      <td>-0.082668</td>\n",
       "      <td>0.143094</td>\n",
       "      <td>-1.506516</td>\n",
       "      <td>2</td>\n",
       "    </tr>\n",
       "    <tr>\n",
       "      <th>14999</th>\n",
       "      <td>0.912559</td>\n",
       "      <td>0.105790</td>\n",
       "      <td>-1.037117</td>\n",
       "      <td>-0.350758</td>\n",
       "      <td>0.014182</td>\n",
       "      <td>-0.064538</td>\n",
       "      <td>0.202061</td>\n",
       "      <td>0.026505</td>\n",
       "      <td>-0.053642</td>\n",
       "      <td>-1.327969</td>\n",
       "      <td>0</td>\n",
       "    </tr>\n",
       "  </tbody>\n",
       "</table>\n",
       "<p>15000 rows × 11 columns</p>\n",
       "</div>"
      ],
      "text/plain": [
       "             x1        x2        x3        x4        x5        x6        x7  \\\n",
       "0      1.518347  0.169320 -0.563664  2.950641 -1.132146  1.505471 -0.284394   \n",
       "1      2.098640  2.220619 -0.125866 -1.202919 -1.711568 -0.426238 -0.890906   \n",
       "2     -1.995845 -1.483104  0.184418 -0.663577  0.833680 -0.825841  0.292764   \n",
       "3      0.902420 -1.210013  0.938864  0.901350 -1.298249  0.408745  0.344624   \n",
       "4      1.233222  0.890784 -0.642521 -1.183033  0.760037 -0.554282 -1.136154   \n",
       "...         ...       ...       ...       ...       ...       ...       ...   \n",
       "14995 -0.585161 -0.012898  0.841239 -0.050058  1.791464 -0.122988 -0.224938   \n",
       "14996  1.755174  0.712462  0.583603 -0.477384 -1.014532 -0.424457  0.618902   \n",
       "14997 -0.111263 -2.167265 -0.814331  1.521100  1.871699 -0.034947  0.260475   \n",
       "14998 -1.547969 -0.364428 -0.663746 -0.452525  0.467082  1.012672  0.254040   \n",
       "14999  0.912559  0.105790 -1.037117 -0.350758  0.014182 -0.064538  0.202061   \n",
       "\n",
       "             x8        x9       x10  y  \n",
       "0      0.023092  0.007470 -1.650441  1  \n",
       "1      0.522722 -0.963621  1.113457  1  \n",
       "2     -0.354294  0.668589  0.474721  2  \n",
       "3     -0.322170  0.705360  2.597745  1  \n",
       "4      0.233899 -0.503455  0.123104  3  \n",
       "...         ...       ...       ... ..  \n",
       "14995  0.026782 -0.138373 -2.426532  2  \n",
       "14996  0.159920 -0.271558  0.741435  1  \n",
       "14997 -0.506794  0.924204 -1.455204  2  \n",
       "14998 -0.082668  0.143094 -1.506516  2  \n",
       "14999  0.026505 -0.053642 -1.327969  0  \n",
       "\n",
       "[15000 rows x 11 columns]"
      ]
     },
     "execution_count": 1,
     "metadata": {},
     "output_type": "execute_result"
    }
   ],
   "source": [
    "import pandas as pd\n",
    "\n",
    "df = pd.read_csv(\"C:/Users/LENOVO/Praktikum DL/Praktikum_DL/Pertemuan 3/Dataset/dataset_klasifikasi_multiclass.csv\")\n",
    "df"
   ]
  },
  {
   "cell_type": "markdown",
   "id": "e4e98b09",
   "metadata": {},
   "source": [
    "# Membagi Dataset"
   ]
  },
  {
   "cell_type": "code",
   "execution_count": 2,
   "id": "6ff1ee2e",
   "metadata": {},
   "outputs": [
    {
     "data": {
      "text/plain": [
       "((12000, 10), (3000, 10), (12000,), (3000,))"
      ]
     },
     "execution_count": 2,
     "metadata": {},
     "output_type": "execute_result"
    }
   ],
   "source": [
    "from sklearn.model_selection import train_test_split\n",
    "\n",
    "X = df.drop('y', axis=1).values\n",
    "Y = df['y'].values\n",
    "\n",
    "x_train, x_test, y_train, y_test = train_test_split(X, Y,test_size=0.2, random_state=42, stratify=Y)\n",
    "x_train.shape, x_test.shape, y_train.shape, y_test.shape"
   ]
  },
  {
   "cell_type": "code",
   "execution_count": 3,
   "id": "fc0a9d4a",
   "metadata": {},
   "outputs": [
    {
     "data": {
      "text/plain": [
       "y\n",
       "3    3759\n",
       "2    3750\n",
       "0    3746\n",
       "1    3745\n",
       "Name: count, dtype: int64"
      ]
     },
     "execution_count": 3,
     "metadata": {},
     "output_type": "execute_result"
    }
   ],
   "source": [
    "df['y'].value_counts()"
   ]
  },
  {
   "cell_type": "markdown",
   "id": "65014260",
   "metadata": {},
   "source": [
    "# Membuat Arsitektur Model"
   ]
  },
  {
   "cell_type": "code",
   "execution_count": 4,
   "id": "9a74e6c5",
   "metadata": {},
   "outputs": [],
   "source": [
    "from keras.models import Sequential\n",
    "from keras.layers import Dense\n",
    "\n",
    "model = Sequential()\n",
    "model.add(Dense(8, input_dim=10, activation='relu'))\n",
    "model.add(Dense(16, activation='relu'))\n",
    "model.add(Dense(32, activation='relu'))\n",
    "model.add(Dense(16, activation='relu'))\n",
    "model.add(Dense(8, activation='relu'))\n",
    "model.add(Dense(4, activation='softmax'))"
   ]
  },
  {
   "cell_type": "markdown",
   "id": "d73f99cd",
   "metadata": {},
   "source": [
    "# Compile Model"
   ]
  },
  {
   "cell_type": "code",
   "execution_count": 5,
   "id": "e5f37ac0",
   "metadata": {},
   "outputs": [],
   "source": [
    "model.compile(loss='sparse_categorical_crossentropy', optimizer='adam', metrics=['accuracy'])"
   ]
  },
  {
   "cell_type": "markdown",
   "id": "4816bb39",
   "metadata": {},
   "source": [
    "# Training Model"
   ]
  },
  {
   "cell_type": "code",
   "execution_count": 6,
   "id": "346bdac1",
   "metadata": {},
   "outputs": [
    {
     "name": "stdout",
     "output_type": "stream",
     "text": [
      "Epoch 1/100\n",
      "43/43 [==============================] - 3s 16ms/step - loss: 1.3695 - accuracy: 0.2854 - val_loss: 1.3329 - val_accuracy: 0.3533\n",
      "Epoch 2/100\n",
      "43/43 [==============================] - 0s 5ms/step - loss: 1.2388 - accuracy: 0.4836 - val_loss: 1.1017 - val_accuracy: 0.6242\n",
      "Epoch 3/100\n",
      "43/43 [==============================] - 0s 5ms/step - loss: 0.9201 - accuracy: 0.7089 - val_loss: 0.7159 - val_accuracy: 0.7775\n",
      "Epoch 4/100\n",
      "43/43 [==============================] - 0s 4ms/step - loss: 0.5880 - accuracy: 0.8078 - val_loss: 0.5301 - val_accuracy: 0.8217\n",
      "Epoch 5/100\n",
      "43/43 [==============================] - 0s 5ms/step - loss: 0.4765 - accuracy: 0.8417 - val_loss: 0.4764 - val_accuracy: 0.8467\n",
      "Epoch 6/100\n",
      "43/43 [==============================] - 0s 5ms/step - loss: 0.4331 - accuracy: 0.8632 - val_loss: 0.4458 - val_accuracy: 0.8617\n",
      "Epoch 7/100\n",
      "43/43 [==============================] - 0s 5ms/step - loss: 0.4076 - accuracy: 0.8763 - val_loss: 0.4176 - val_accuracy: 0.8742\n",
      "Epoch 8/100\n",
      "43/43 [==============================] - 0s 5ms/step - loss: 0.3854 - accuracy: 0.8856 - val_loss: 0.3992 - val_accuracy: 0.8767\n",
      "Epoch 9/100\n",
      "43/43 [==============================] - 0s 4ms/step - loss: 0.3707 - accuracy: 0.8900 - val_loss: 0.3838 - val_accuracy: 0.8792\n",
      "Epoch 10/100\n",
      "43/43 [==============================] - 0s 5ms/step - loss: 0.3566 - accuracy: 0.8944 - val_loss: 0.3764 - val_accuracy: 0.8867\n",
      "Epoch 11/100\n",
      "43/43 [==============================] - 0s 4ms/step - loss: 0.3455 - accuracy: 0.8982 - val_loss: 0.3587 - val_accuracy: 0.8850\n",
      "Epoch 12/100\n",
      "43/43 [==============================] - 0s 4ms/step - loss: 0.3358 - accuracy: 0.9011 - val_loss: 0.3482 - val_accuracy: 0.8892\n",
      "Epoch 13/100\n",
      "43/43 [==============================] - 0s 4ms/step - loss: 0.3268 - accuracy: 0.9046 - val_loss: 0.3428 - val_accuracy: 0.8900\n",
      "Epoch 14/100\n",
      "43/43 [==============================] - 0s 5ms/step - loss: 0.3201 - accuracy: 0.9051 - val_loss: 0.3332 - val_accuracy: 0.8975\n",
      "Epoch 15/100\n",
      "43/43 [==============================] - 0s 4ms/step - loss: 0.3148 - accuracy: 0.9085 - val_loss: 0.3313 - val_accuracy: 0.8958\n",
      "Epoch 16/100\n",
      "43/43 [==============================] - 0s 4ms/step - loss: 0.3101 - accuracy: 0.9087 - val_loss: 0.3263 - val_accuracy: 0.8967\n",
      "Epoch 17/100\n",
      "43/43 [==============================] - 0s 5ms/step - loss: 0.3056 - accuracy: 0.9103 - val_loss: 0.3234 - val_accuracy: 0.8983\n",
      "Epoch 18/100\n",
      "43/43 [==============================] - 0s 6ms/step - loss: 0.3024 - accuracy: 0.9106 - val_loss: 0.3248 - val_accuracy: 0.8992\n",
      "Epoch 19/100\n",
      "43/43 [==============================] - 0s 7ms/step - loss: 0.2996 - accuracy: 0.9124 - val_loss: 0.3190 - val_accuracy: 0.9000\n",
      "Epoch 20/100\n",
      "43/43 [==============================] - 0s 5ms/step - loss: 0.2973 - accuracy: 0.9130 - val_loss: 0.3173 - val_accuracy: 0.9025\n",
      "Epoch 21/100\n",
      "43/43 [==============================] - 0s 6ms/step - loss: 0.2957 - accuracy: 0.9144 - val_loss: 0.3167 - val_accuracy: 0.8967\n",
      "Epoch 22/100\n",
      "43/43 [==============================] - 0s 5ms/step - loss: 0.2949 - accuracy: 0.9133 - val_loss: 0.3181 - val_accuracy: 0.8975\n",
      "Epoch 23/100\n",
      "43/43 [==============================] - 0s 5ms/step - loss: 0.2943 - accuracy: 0.9155 - val_loss: 0.3168 - val_accuracy: 0.9000\n",
      "Epoch 24/100\n",
      "43/43 [==============================] - 0s 5ms/step - loss: 0.2912 - accuracy: 0.9153 - val_loss: 0.3139 - val_accuracy: 0.9008\n",
      "Epoch 25/100\n",
      "43/43 [==============================] - 0s 5ms/step - loss: 0.2900 - accuracy: 0.9148 - val_loss: 0.3131 - val_accuracy: 0.9017\n",
      "Epoch 26/100\n",
      "43/43 [==============================] - 0s 5ms/step - loss: 0.2889 - accuracy: 0.9154 - val_loss: 0.3180 - val_accuracy: 0.8983\n",
      "Epoch 27/100\n",
      "43/43 [==============================] - 0s 5ms/step - loss: 0.2893 - accuracy: 0.9158 - val_loss: 0.3142 - val_accuracy: 0.8992\n",
      "Epoch 28/100\n",
      "43/43 [==============================] - 0s 5ms/step - loss: 0.2878 - accuracy: 0.9150 - val_loss: 0.3136 - val_accuracy: 0.9058\n",
      "Epoch 29/100\n",
      "43/43 [==============================] - 0s 4ms/step - loss: 0.2882 - accuracy: 0.9151 - val_loss: 0.3108 - val_accuracy: 0.9000\n",
      "Epoch 30/100\n",
      "43/43 [==============================] - 0s 5ms/step - loss: 0.2862 - accuracy: 0.9171 - val_loss: 0.3096 - val_accuracy: 0.9042\n",
      "Epoch 31/100\n",
      "43/43 [==============================] - 0s 5ms/step - loss: 0.2866 - accuracy: 0.9154 - val_loss: 0.3094 - val_accuracy: 0.9025\n",
      "Epoch 32/100\n",
      "43/43 [==============================] - 0s 5ms/step - loss: 0.2843 - accuracy: 0.9178 - val_loss: 0.3093 - val_accuracy: 0.8992\n",
      "Epoch 33/100\n",
      "43/43 [==============================] - 0s 5ms/step - loss: 0.2848 - accuracy: 0.9159 - val_loss: 0.3081 - val_accuracy: 0.9025\n",
      "Epoch 34/100\n",
      "43/43 [==============================] - 0s 5ms/step - loss: 0.2845 - accuracy: 0.9168 - val_loss: 0.3094 - val_accuracy: 0.9008\n",
      "Epoch 35/100\n",
      "43/43 [==============================] - 0s 5ms/step - loss: 0.2815 - accuracy: 0.9179 - val_loss: 0.3085 - val_accuracy: 0.9033\n",
      "Epoch 36/100\n",
      "43/43 [==============================] - 0s 5ms/step - loss: 0.2832 - accuracy: 0.9171 - val_loss: 0.3059 - val_accuracy: 0.9008\n",
      "Epoch 37/100\n",
      "43/43 [==============================] - 0s 5ms/step - loss: 0.2829 - accuracy: 0.9169 - val_loss: 0.3093 - val_accuracy: 0.9008\n",
      "Epoch 38/100\n",
      "43/43 [==============================] - 0s 5ms/step - loss: 0.2818 - accuracy: 0.9177 - val_loss: 0.3060 - val_accuracy: 0.9017\n",
      "Epoch 39/100\n",
      "43/43 [==============================] - 0s 5ms/step - loss: 0.2807 - accuracy: 0.9172 - val_loss: 0.3103 - val_accuracy: 0.9000\n",
      "Epoch 40/100\n",
      "43/43 [==============================] - 0s 5ms/step - loss: 0.2804 - accuracy: 0.9176 - val_loss: 0.3074 - val_accuracy: 0.9042\n",
      "Epoch 41/100\n",
      "43/43 [==============================] - 0s 4ms/step - loss: 0.2805 - accuracy: 0.9172 - val_loss: 0.3080 - val_accuracy: 0.9008\n",
      "Epoch 42/100\n",
      "43/43 [==============================] - 0s 5ms/step - loss: 0.2803 - accuracy: 0.9180 - val_loss: 0.3047 - val_accuracy: 0.9017\n",
      "Epoch 43/100\n",
      "43/43 [==============================] - 0s 5ms/step - loss: 0.2803 - accuracy: 0.9172 - val_loss: 0.3063 - val_accuracy: 0.9017\n",
      "Epoch 44/100\n",
      "43/43 [==============================] - 0s 4ms/step - loss: 0.2791 - accuracy: 0.9181 - val_loss: 0.3061 - val_accuracy: 0.9008\n",
      "Epoch 45/100\n",
      "43/43 [==============================] - 0s 5ms/step - loss: 0.2801 - accuracy: 0.9175 - val_loss: 0.3032 - val_accuracy: 0.9008\n",
      "Epoch 46/100\n",
      "43/43 [==============================] - 0s 5ms/step - loss: 0.2792 - accuracy: 0.9175 - val_loss: 0.3073 - val_accuracy: 0.9025\n",
      "Epoch 47/100\n",
      "43/43 [==============================] - 0s 5ms/step - loss: 0.2786 - accuracy: 0.9180 - val_loss: 0.3050 - val_accuracy: 0.9017\n",
      "Epoch 48/100\n",
      "43/43 [==============================] - 0s 5ms/step - loss: 0.2772 - accuracy: 0.9165 - val_loss: 0.3034 - val_accuracy: 0.9050\n",
      "Epoch 49/100\n",
      "43/43 [==============================] - 0s 5ms/step - loss: 0.2776 - accuracy: 0.9184 - val_loss: 0.3051 - val_accuracy: 0.9008\n",
      "Epoch 50/100\n",
      "43/43 [==============================] - 0s 6ms/step - loss: 0.2771 - accuracy: 0.9181 - val_loss: 0.3039 - val_accuracy: 0.9025\n",
      "Epoch 51/100\n",
      "43/43 [==============================] - 0s 6ms/step - loss: 0.2775 - accuracy: 0.9181 - val_loss: 0.3018 - val_accuracy: 0.9033\n",
      "Epoch 52/100\n",
      "43/43 [==============================] - 0s 5ms/step - loss: 0.2753 - accuracy: 0.9183 - val_loss: 0.3016 - val_accuracy: 0.9058\n",
      "Epoch 53/100\n",
      "43/43 [==============================] - 0s 6ms/step - loss: 0.2752 - accuracy: 0.9187 - val_loss: 0.3023 - val_accuracy: 0.9042\n",
      "Epoch 54/100\n",
      "43/43 [==============================] - 0s 5ms/step - loss: 0.2752 - accuracy: 0.9194 - val_loss: 0.3008 - val_accuracy: 0.9008\n",
      "Epoch 55/100\n",
      "43/43 [==============================] - 0s 6ms/step - loss: 0.2752 - accuracy: 0.9188 - val_loss: 0.3056 - val_accuracy: 0.9025\n",
      "Epoch 56/100\n",
      "43/43 [==============================] - 0s 5ms/step - loss: 0.2759 - accuracy: 0.9180 - val_loss: 0.3011 - val_accuracy: 0.9050\n",
      "Epoch 57/100\n",
      "43/43 [==============================] - 0s 5ms/step - loss: 0.2762 - accuracy: 0.9184 - val_loss: 0.3011 - val_accuracy: 0.9025\n",
      "Epoch 58/100\n",
      "43/43 [==============================] - 0s 5ms/step - loss: 0.2739 - accuracy: 0.9199 - val_loss: 0.3031 - val_accuracy: 0.9042\n"
     ]
    },
    {
     "name": "stdout",
     "output_type": "stream",
     "text": [
      "Epoch 59/100\n",
      "43/43 [==============================] - 0s 5ms/step - loss: 0.2737 - accuracy: 0.9199 - val_loss: 0.3037 - val_accuracy: 0.9025\n",
      "Epoch 60/100\n",
      "43/43 [==============================] - 0s 6ms/step - loss: 0.2747 - accuracy: 0.9171 - val_loss: 0.2996 - val_accuracy: 0.9042\n",
      "Epoch 61/100\n",
      "43/43 [==============================] - 0s 5ms/step - loss: 0.2733 - accuracy: 0.9188 - val_loss: 0.2997 - val_accuracy: 0.9033\n",
      "Epoch 62/100\n",
      "43/43 [==============================] - 0s 5ms/step - loss: 0.2748 - accuracy: 0.9191 - val_loss: 0.2995 - val_accuracy: 0.9050\n",
      "Epoch 63/100\n",
      "43/43 [==============================] - 0s 5ms/step - loss: 0.2724 - accuracy: 0.9187 - val_loss: 0.2994 - val_accuracy: 0.9042\n",
      "Epoch 64/100\n",
      "43/43 [==============================] - 0s 5ms/step - loss: 0.2740 - accuracy: 0.9206 - val_loss: 0.3011 - val_accuracy: 0.9042\n",
      "Epoch 65/100\n",
      "43/43 [==============================] - 0s 5ms/step - loss: 0.2731 - accuracy: 0.9194 - val_loss: 0.3005 - val_accuracy: 0.9017\n",
      "Epoch 66/100\n",
      "43/43 [==============================] - 0s 6ms/step - loss: 0.2742 - accuracy: 0.9189 - val_loss: 0.3016 - val_accuracy: 0.9025\n",
      "Epoch 67/100\n",
      "43/43 [==============================] - 0s 5ms/step - loss: 0.2726 - accuracy: 0.9194 - val_loss: 0.2989 - val_accuracy: 0.9033\n",
      "Epoch 68/100\n",
      "43/43 [==============================] - 0s 5ms/step - loss: 0.2728 - accuracy: 0.9198 - val_loss: 0.2984 - val_accuracy: 0.9042\n",
      "Epoch 69/100\n",
      "43/43 [==============================] - 0s 5ms/step - loss: 0.2717 - accuracy: 0.9191 - val_loss: 0.2994 - val_accuracy: 0.9033\n",
      "Epoch 70/100\n",
      "43/43 [==============================] - 0s 5ms/step - loss: 0.2713 - accuracy: 0.9200 - val_loss: 0.3014 - val_accuracy: 0.9033\n",
      "Epoch 71/100\n",
      "43/43 [==============================] - 0s 5ms/step - loss: 0.2709 - accuracy: 0.9194 - val_loss: 0.2994 - val_accuracy: 0.9042\n",
      "Epoch 72/100\n",
      "43/43 [==============================] - 0s 5ms/step - loss: 0.2705 - accuracy: 0.9206 - val_loss: 0.3033 - val_accuracy: 0.9008\n",
      "Epoch 73/100\n",
      "43/43 [==============================] - 0s 5ms/step - loss: 0.2708 - accuracy: 0.9199 - val_loss: 0.2976 - val_accuracy: 0.9042\n",
      "Epoch 74/100\n",
      "43/43 [==============================] - 0s 5ms/step - loss: 0.2709 - accuracy: 0.9192 - val_loss: 0.2982 - val_accuracy: 0.9050\n",
      "Epoch 75/100\n",
      "43/43 [==============================] - 0s 5ms/step - loss: 0.2702 - accuracy: 0.9193 - val_loss: 0.3012 - val_accuracy: 0.9025\n",
      "Epoch 76/100\n",
      "43/43 [==============================] - 0s 5ms/step - loss: 0.2706 - accuracy: 0.9198 - val_loss: 0.2973 - val_accuracy: 0.9050\n",
      "Epoch 77/100\n",
      "43/43 [==============================] - 0s 5ms/step - loss: 0.2688 - accuracy: 0.9211 - val_loss: 0.2991 - val_accuracy: 0.9050\n",
      "Epoch 78/100\n",
      "43/43 [==============================] - 0s 5ms/step - loss: 0.2696 - accuracy: 0.9193 - val_loss: 0.2999 - val_accuracy: 0.9042\n",
      "Epoch 79/100\n",
      "43/43 [==============================] - 0s 4ms/step - loss: 0.2696 - accuracy: 0.9194 - val_loss: 0.2988 - val_accuracy: 0.9033\n",
      "Epoch 80/100\n",
      "43/43 [==============================] - 0s 5ms/step - loss: 0.2695 - accuracy: 0.9188 - val_loss: 0.2980 - val_accuracy: 0.9025\n",
      "Epoch 81/100\n",
      "43/43 [==============================] - 0s 4ms/step - loss: 0.2689 - accuracy: 0.9202 - val_loss: 0.3001 - val_accuracy: 0.9025\n",
      "Epoch 82/100\n",
      "43/43 [==============================] - 0s 4ms/step - loss: 0.2691 - accuracy: 0.9193 - val_loss: 0.2989 - val_accuracy: 0.9025\n",
      "Epoch 83/100\n",
      "43/43 [==============================] - 0s 5ms/step - loss: 0.2678 - accuracy: 0.9201 - val_loss: 0.2984 - val_accuracy: 0.9042\n",
      "Epoch 84/100\n",
      "43/43 [==============================] - 0s 5ms/step - loss: 0.2695 - accuracy: 0.9207 - val_loss: 0.2969 - val_accuracy: 0.9042\n",
      "Epoch 85/100\n",
      "43/43 [==============================] - 0s 5ms/step - loss: 0.2680 - accuracy: 0.9202 - val_loss: 0.2976 - val_accuracy: 0.9033\n",
      "Epoch 86/100\n",
      "43/43 [==============================] - 0s 5ms/step - loss: 0.2679 - accuracy: 0.9195 - val_loss: 0.2966 - val_accuracy: 0.9050\n",
      "Epoch 87/100\n",
      "43/43 [==============================] - 0s 5ms/step - loss: 0.2680 - accuracy: 0.9208 - val_loss: 0.3008 - val_accuracy: 0.9033\n",
      "Epoch 88/100\n",
      "43/43 [==============================] - 0s 5ms/step - loss: 0.2678 - accuracy: 0.9194 - val_loss: 0.2979 - val_accuracy: 0.9008\n",
      "Epoch 89/100\n",
      "43/43 [==============================] - 0s 5ms/step - loss: 0.2676 - accuracy: 0.9195 - val_loss: 0.3003 - val_accuracy: 0.9000\n",
      "Epoch 90/100\n",
      "43/43 [==============================] - 0s 6ms/step - loss: 0.2674 - accuracy: 0.9194 - val_loss: 0.2998 - val_accuracy: 0.9025\n",
      "Epoch 91/100\n",
      "43/43 [==============================] - 0s 5ms/step - loss: 0.2671 - accuracy: 0.9206 - val_loss: 0.3003 - val_accuracy: 0.9033\n",
      "Epoch 92/100\n",
      "43/43 [==============================] - 0s 5ms/step - loss: 0.2674 - accuracy: 0.9201 - val_loss: 0.2971 - val_accuracy: 0.9042\n",
      "Epoch 93/100\n",
      "43/43 [==============================] - 0s 5ms/step - loss: 0.2661 - accuracy: 0.9205 - val_loss: 0.3000 - val_accuracy: 0.9033\n",
      "Epoch 94/100\n",
      "43/43 [==============================] - 0s 5ms/step - loss: 0.2663 - accuracy: 0.9203 - val_loss: 0.2964 - val_accuracy: 0.9050\n",
      "Epoch 95/100\n",
      "43/43 [==============================] - 0s 5ms/step - loss: 0.2657 - accuracy: 0.9195 - val_loss: 0.2985 - val_accuracy: 0.9025\n",
      "Epoch 96/100\n",
      "43/43 [==============================] - 0s 5ms/step - loss: 0.2657 - accuracy: 0.9206 - val_loss: 0.2960 - val_accuracy: 0.9042\n",
      "Epoch 97/100\n",
      "43/43 [==============================] - 0s 6ms/step - loss: 0.2654 - accuracy: 0.9206 - val_loss: 0.2963 - val_accuracy: 0.9042\n",
      "Epoch 98/100\n",
      "43/43 [==============================] - 0s 5ms/step - loss: 0.2656 - accuracy: 0.9205 - val_loss: 0.3011 - val_accuracy: 0.9017\n",
      "Epoch 99/100\n",
      "43/43 [==============================] - 0s 5ms/step - loss: 0.2653 - accuracy: 0.9211 - val_loss: 0.2959 - val_accuracy: 0.9033\n",
      "Epoch 100/100\n",
      "43/43 [==============================] - 0s 5ms/step - loss: 0.2646 - accuracy: 0.9205 - val_loss: 0.2967 - val_accuracy: 0.9033\n"
     ]
    }
   ],
   "source": [
    "catatan = model.fit(x_train, y_train, validation_split=0.1, batch_size=256, epochs=100)"
   ]
  },
  {
   "cell_type": "markdown",
   "id": "6f33b5a8",
   "metadata": {},
   "source": [
    "# Plot Performa Model"
   ]
  },
  {
   "cell_type": "code",
   "execution_count": 7,
   "id": "7a21224d",
   "metadata": {},
   "outputs": [
    {
     "data": {
      "image/png": "[encoded data removed]",
      "text/plain": [
       "<Figure size 640x480 with 1 Axes>"
      ]
     },
     "metadata": {},
     "output_type": "display_data"
    }
   ],
   "source": [
    "import matplotlib.pyplot as plt\n",
    "\n",
    "plt.plot(range(len(catatan.history['val_accuracy'])), catatan.history['val_accuracy'], label='val_accuracy')\n",
    "plt.plot(range(len(catatan.history['accuracy'])), catatan.history['accuracy'], label='accuracy')\n",
    "plt.legend()\n",
    "plt.show()"
   ]
  },
  {
   "cell_type": "markdown",
   "id": "c43fba9e",
   "metadata": {},
   "source": [
    "# Evaluasi Model¶"
   ]
  },
  {
   "cell_type": "code",
   "execution_count": 8,
   "id": "1b97f05d",
   "metadata": {},
   "outputs": [
    {
     "name": "stdout",
     "output_type": "stream",
     "text": [
      "94/94 [==============================] - 0s 3ms/step - loss: 0.2778 - accuracy: 0.9090\n",
      "Accuracy Model :  0.9089999794960022\n"
     ]
    }
   ],
   "source": [
    "loss, acc = model.evaluate(x_test, y_test)\n",
    "print('Accuracy Model : ', acc)"
   ]
  },
  {
   "cell_type": "markdown",
   "id": "75ce480e",
   "metadata": {},
   "source": [
    "# Prediksi Model"
   ]
  },
  {
   "cell_type": "code",
   "execution_count": 9,
   "id": "753318ec",
   "metadata": {},
   "outputs": [
    {
     "name": "stdout",
     "output_type": "stream",
     "text": [
      "94/94 [==============================] - 0s 2ms/step\n"
     ]
    },
    {
     "data": {
      "text/plain": [
       "array([[1.67897940e-02, 5.68022532e-03, 1.30513245e-02, 9.64478672e-01],\n",
       "       [7.97416449e-01, 1.42906532e-01, 4.88029756e-02, 1.08740572e-02],\n",
       "       [5.19181958e-05, 6.62271166e-03, 9.86262798e-01, 7.06250081e-03],\n",
       "       ...,\n",
       "       [9.71757472e-01, 1.19575458e-02, 1.28371846e-02, 3.44772148e-03],\n",
       "       [9.54130113e-01, 1.75270047e-02, 2.12247036e-02, 7.11823348e-03],\n",
       "       [1.61935855e-03, 9.93622482e-01, 3.93500598e-03, 8.23229493e-04]],\n",
       "      dtype=float32)"
      ]
     },
     "execution_count": 9,
     "metadata": {},
     "output_type": "execute_result"
    }
   ],
   "source": [
    "model.predict(x_test)"
   ]
  },
  {
   "cell_type": "code",
   "execution_count": 11,
   "id": "4083ee2a",
   "metadata": {},
   "outputs": [
    {
     "name": "stdout",
     "output_type": "stream",
     "text": [
      "94/94 [==============================] - 0s 2ms/step\n"
     ]
    },
    {
     "data": {
      "text/plain": [
       "array([3, 0, 2, ..., 0, 0, 1], dtype=int64)"
      ]
     },
     "execution_count": 11,
     "metadata": {},
     "output_type": "execute_result"
    }
   ],
   "source": [
    "import numpy as np\n",
    "\n",
    "y_pred = model.predict(x_test)\n",
    "pred = np.argmax(y_pred, axis=1)\n",
    "pred"
   ]
  },
  {
   "cell_type": "markdown",
   "id": "daee899e",
   "metadata": {},
   "source": [
    "# Evaluasi dengan Confusion Matrix"
   ]
  },
  {
   "cell_type": "code",
   "execution_count": 12,
   "id": "984e1ff1",
   "metadata": {},
   "outputs": [
    {
     "name": "stdout",
     "output_type": "stream",
     "text": [
      "[[717  32  24  21]\n",
      " [  6 675  35   5]\n",
      " [  2  26 651  42]\n",
      " [ 24  16  40 684]]\n"
     ]
    }
   ],
   "source": [
    "from sklearn.metrics import confusion_matrix\n",
    "\n",
    "print(confusion_matrix(pred, y_test))"
   ]
  },
  {
   "cell_type": "markdown",
   "id": "4ad977c3",
   "metadata": {},
   "source": [
    "# Simpan Model"
   ]
  },
  {
   "cell_type": "code",
   "execution_count": 15,
   "id": "88ebdef5",
   "metadata": {},
   "outputs": [],
   "source": [
    "model.save_weights('model.h5')"
   ]
  }
 ],
 "metadata": {
  "kernelspec": {
   "display_name": "Python 3 (ipykernel)",
   "language": "python",
   "name": "python3"
  },
  "language_info": {
   "codemirror_mode": {
    "name": "ipython",
    "version": 3
   },
   "file_extension": ".py",
   "mimetype": "text/x-python",
   "name": "python",
   "nbconvert_exporter": "python",
   "pygments_lexer": "ipython3",
   "version": "3.9.18"
  }
 },
 "nbformat": 4,
 "nbformat_minor": 5
}
